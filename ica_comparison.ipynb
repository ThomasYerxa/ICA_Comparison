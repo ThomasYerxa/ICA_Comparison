{
 "cells": [
  {
   "cell_type": "code",
   "execution_count": 3,
   "metadata": {},
   "outputs": [
    {
     "name": "stdout",
     "output_type": "stream",
     "text": [
      "/Users/tyerxa/Desktop/VS265/Final_Project/vanhateren_iml\n"
     ]
    }
   ],
   "source": [
    "%cd vanhateren_iml"
   ]
  },
  {
   "cell_type": "code",
   "execution_count": 45,
   "metadata": {},
   "outputs": [],
   "source": [
    "import numpy as np\n",
    "import array \n",
    "import sklearn\n",
    "from sklearn.feature_extraction import image\n",
    "from sklearn.decomposition import FastICA\n",
    "import matplotlib.pyplot as plt\n",
    "\n",
    "patch_size  = 8\n",
    "p_per_image = 200\n",
    "n_images    = 9"
   ]
  },
  {
   "cell_type": "code",
   "execution_count": 67,
   "metadata": {},
   "outputs": [
    {
     "name": "stderr",
     "output_type": "stream",
     "text": [
      "/Users/tyerxa/anaconda3/lib/python3.7/site-packages/sklearn/feature_extraction/image.py:287: FutureWarning: Using a non-tuple sequence for multidimensional indexing is deprecated; use `arr[tuple(seq)]` instead of `arr[seq]`. In the future this will be interpreted as an array index, `arr[np.array(seq)]`, which will result either in an error or a different result.\n",
      "  indexing_strides = arr[slices].strides\n"
     ]
    }
   ],
   "source": [
    "# load a set of 9 images \n",
    "images  = []\n",
    "patches = []\n",
    "for i in range(n_images):\n",
    "    filename  = 'imk0000'\n",
    "    filename += str(i + 1)\n",
    "    filename += '.iml'\n",
    "    \n",
    "    with open(filename, 'rb') as handle:\n",
    "        s = handle.read()\n",
    "    arr   = array.array('H', s)\n",
    "    arr.byteswap()\n",
    "    img   = np.array(arr, dtype='uint16').reshape(1024, 1536)\n",
    "    \n",
    "    # set image to zero mean and unit variance\n",
    "    img   = (img - np.mean(img)) / np.std(img)\n",
    "\n",
    "    # extract image patches, set patches to zero mean\n",
    "    patch = image.extract_patches_2d(img, [patch_size, patch_size], max_patches = p_per_image)\n",
    "    for i in range(patch.shape[0]):\n",
    "        patch[i] = patch[i] - np.mean(patch[i])\n",
    "\n",
    "    \n",
    "    images.append(img)\n",
    "    patches.append(patch)\n",
    " \n",
    "\n",
    "images  = np.array(images)\n",
    "patches = np.array(patches)\n",
    "\n",
    "# reshape for convenience \n",
    "patches = np.reshape(patches, [n_images*p_per_image, patch_size * patch_size])\n",
    "\n"
   ]
  },
  {
   "cell_type": "code",
   "execution_count": 73,
   "metadata": {},
   "outputs": [
    {
     "name": "stderr",
     "output_type": "stream",
     "text": [
      "/Users/tyerxa/anaconda3/lib/python3.7/site-packages/matplotlib/cbook/deprecation.py:107: MatplotlibDeprecationWarning: Passing one of 'on', 'true', 'off', 'false' as a boolean is deprecated; use an actual boolean (True/False) instead.\n",
      "  warnings.warn(message, mplDeprecation, stacklevel=1)\n"
     ]
    },
    {
     "data": {
      "image/png": "[encoded data removed]",
      "text/plain": [
       "<Figure size 360x360 with 64 Axes>"
      ]
     },
     "metadata": {
      "needs_background": "light"
     },
     "output_type": "display_data"
    }
   ],
   "source": [
    "# Use Fast ICA to find independent components of image patches\n",
    "ica = FastICA(n_components = 64)\n",
    "ica.fit_transform(patches)\n",
    "W   = ica.mixing_\n",
    "\n",
    "W   = np.reshape(W.T, [64, 8, 8])\n",
    "\n",
    "fig, axs = plt.subplots(8, 8)\n",
    "fig.set_size_inches(5,5)\n",
    "\n",
    "for i in range(8):\n",
    "    for j in range(8):\n",
    "        ax = axs[i, j]\n",
    "        ax.imshow(W[(i-1)*8 + j], cmap = 'Greys')\n",
    "        ax.tick_params(\n",
    "          axis=\"both\",\n",
    "          bottom=\"off\",\n",
    "          top=\"off\",\n",
    "          left=\"off\",\n",
    "          right=\"off\")\n",
    "        ax.get_xaxis().set_visible(False)\n",
    "        ax.get_yaxis().set_visible(False)\n"
   ]
  },
  {
   "cell_type": "code",
   "execution_count": null,
   "metadata": {},
   "outputs": [],
   "source": []
  },
  {
   "cell_type": "code",
   "execution_count": null,
   "metadata": {},
   "outputs": [],
   "source": []
  }
 ],
 "metadata": {
  "kernelspec": {
   "display_name": "Python 3",
   "language": "python",
   "name": "python3"
  },
  "language_info": {
   "codemirror_mode": {
    "name": "ipython",
    "version": 3
   },
   "file_extension": ".py",
   "mimetype": "text/x-python",
   "name": "python",
   "nbconvert_exporter": "python",
   "pygments_lexer": "ipython3",
   "version": "3.7.0"
  }
 },
 "nbformat": 4,
 "nbformat_minor": 2
}
